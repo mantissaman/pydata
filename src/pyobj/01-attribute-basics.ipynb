{
 "cells": [
  {
   "cell_type": "code",
   "execution_count": 1,
   "metadata": {},
   "outputs": [
    {
     "name": "stdout",
     "output_type": "stream",
     "text": [
      "3.7.5 (default, Oct 25 2019, 10:52:18) \n",
      "[Clang 4.0.1 (tags/RELEASE_401/final)]\n"
     ]
    }
   ],
   "source": [
    "import sys\n",
    "print(sys.version)"
   ]
  },
  {
   "cell_type": "code",
   "execution_count": 2,
   "metadata": {},
   "outputs": [],
   "source": [
    "class Coordinate:\n",
    "    '''Coordinate on Earth'''"
   ]
  },
  {
   "cell_type": "code",
   "execution_count": 6,
   "metadata": {},
   "outputs": [
    {
     "data": {
      "text/plain": [
       "<__main__.Coordinate at 0x7ff4ee0767d0>"
      ]
     },
     "execution_count": 6,
     "metadata": {},
     "output_type": "execute_result"
    }
   ],
   "source": [
    "cle = Coordinate()\n",
    "cle.lat = 41.4\n",
    "cle.long = -81.8\n",
    "cle"
   ]
  },
  {
   "cell_type": "code",
   "execution_count": 7,
   "metadata": {},
   "outputs": [
    {
     "data": {
      "text/plain": [
       "41.4"
      ]
     },
     "execution_count": 7,
     "metadata": {},
     "output_type": "execute_result"
    }
   ],
   "source": [
    "cle.lat"
   ]
  },
  {
   "cell_type": "markdown",
   "metadata": {},
   "source": [
    "### First Method `__repr__`\n",
    "* Good for exploration/documentation, doctests and debugging\n",
    "* If possible make `__repr__` return string syntax that can be evaled to create new object - `eval(repr(x)) == x`\n",
    "* If not then atleast show class name and attributes `<MyClass ...>`"
   ]
  },
  {
   "cell_type": "code",
   "execution_count": 8,
   "metadata": {},
   "outputs": [],
   "source": [
    "class Coordinate:\n",
    "    '''Coordinate on Earth'''\n",
    "    \n",
    "    def __repr__(self):\n",
    "        return f'Coordinate({self.lat},{self.long})'"
   ]
  },
  {
   "cell_type": "code",
   "execution_count": 9,
   "metadata": {},
   "outputs": [
    {
     "data": {
      "text/plain": [
       "Coordinate(41.4,-81.8)"
      ]
     },
     "execution_count": 9,
     "metadata": {},
     "output_type": "execute_result"
    }
   ],
   "source": [
    "cle = Coordinate()\n",
    "cle.lat = 41.4\n",
    "cle.long = -81.8\n",
    "cle"
   ]
  },
  {
   "cell_type": "code",
   "execution_count": 12,
   "metadata": {},
   "outputs": [
    {
     "data": {
      "text/plain": [
       "'Coordinate(41.4,-81.8)'"
      ]
     },
     "execution_count": 12,
     "metadata": {},
     "output_type": "execute_result"
    }
   ],
   "source": [
    "cle.__repr__() # Dunder are not supposed to be called like this"
   ]
  },
  {
   "cell_type": "code",
   "execution_count": 17,
   "metadata": {},
   "outputs": [
    {
     "data": {
      "text/plain": [
       "'Coordinate(41.4,-81.8)'"
      ]
     },
     "execution_count": 17,
     "metadata": {},
     "output_type": "execute_result"
    }
   ],
   "source": [
    "# This looks non OO but python is looking for faster C functions\n",
    "# same as `len()` , etc.\n",
    "repr(cle) # Neat but doesnt look like a method call"
   ]
  },
  {
   "cell_type": "markdown",
   "metadata": {},
   "source": [
    "#### `__repr__` vs `__str__`\n",
    "* `__repr__` for code\n",
    "* `__str__` for human readability"
   ]
  },
  {
   "cell_type": "code",
   "execution_count": 22,
   "metadata": {},
   "outputs": [],
   "source": [
    "class Coordinate:\n",
    "    '''Coordinate on Earth'''\n",
    "    \n",
    "    def __repr__(self):\n",
    "        return f'Coordinate({self.lat},{self.long})'\n",
    "    \n",
    "    def __str__(self):\n",
    "        # Neat - boolean is subtype of int true=1 and false=0\n",
    "        # thats the index to choose the right charachter\n",
    "        ns = 'NS' [self.lat < 0]\n",
    "        we = 'EW' [self.long < 0]\n",
    "        return f'{abs(self.lat):.1f}°{ns}, {abs(self.long):.1f}°{we}'"
   ]
  },
  {
   "cell_type": "code",
   "execution_count": 23,
   "metadata": {},
   "outputs": [
    {
     "name": "stdout",
     "output_type": "stream",
     "text": [
      "41.4°N, 81.8°W\n"
     ]
    }
   ],
   "source": [
    "cle = Coordinate()\n",
    "cle.lat = 41.4\n",
    "cle.long = -81.8\n",
    "print(cle)"
   ]
  },
  {
   "cell_type": "code",
   "execution_count": 25,
   "metadata": {},
   "outputs": [
    {
     "name": "stdout",
     "output_type": "stream",
     "text": [
      "'Coordinate' object has no attribute 'lat'\n"
     ]
    }
   ],
   "source": [
    "timbuktu = Coordinate()\n",
    "# Not assigning the attributes\n",
    "\n",
    "try:\n",
    "    print(timbuktu)\n",
    "except AttributeError as e:\n",
    "    print(e)"
   ]
  },
  {
   "cell_type": "code",
   "execution_count": 26,
   "metadata": {},
   "outputs": [],
   "source": [
    "class Coordinate:\n",
    "    '''Coordinate on Earth'''\n",
    "    \n",
    "    # Add class attributes - peculiar\n",
    "    lat = 0.0\n",
    "    long = 0.0\n",
    "    \n",
    "    def __repr__(self):\n",
    "        return f'Coordinate({self.lat},{self.long})'\n",
    "    \n",
    "    def __str__(self):\n",
    "        # Neat - boolean is subtype of int true=1 and false=0\n",
    "        # thats the index to choose the right charachter\n",
    "        ns = 'NS' [self.lat < 0]\n",
    "        we = 'EW' [self.long < 0]\n",
    "        return f'{abs(self.lat):.1f}°{ns}, {abs(self.long):.1f}°{we}'"
   ]
  },
  {
   "cell_type": "code",
   "execution_count": 27,
   "metadata": {},
   "outputs": [
    {
     "name": "stdout",
     "output_type": "stream",
     "text": [
      "0.0°N, 0.0°E\n"
     ]
    }
   ],
   "source": [
    "timbuktu = Coordinate()\n",
    "# Not assigning the attributes\n",
    "# Now attributes not found in instance but in class and as such picked\n",
    "try:\n",
    "    print(timbuktu)\n",
    "except AttributeError as e:\n",
    "    print(e)"
   ]
  },
  {
   "cell_type": "markdown",
   "metadata": {},
   "source": [
    "### Class attributes as defaults"
   ]
  },
  {
   "cell_type": "code",
   "execution_count": 37,
   "metadata": {},
   "outputs": [],
   "source": [
    "class Pizza:\n",
    "    '''Pizza class attributes'''\n",
    "    diameter = 40 #cm\n",
    "    slices = 8\n",
    "    flavor = 'Cheese'\n",
    "    flavor2 = None"
   ]
  },
  {
   "cell_type": "code",
   "execution_count": 42,
   "metadata": {},
   "outputs": [
    {
     "data": {
      "text/plain": [
       "8"
      ]
     },
     "execution_count": 42,
     "metadata": {},
     "output_type": "execute_result"
    }
   ],
   "source": [
    "p = Pizza()\n",
    "p.slices"
   ]
  },
  {
   "cell_type": "code",
   "execution_count": 43,
   "metadata": {},
   "outputs": [
    {
     "data": {
      "text/plain": [
       "{}"
      ]
     },
     "execution_count": 43,
     "metadata": {},
     "output_type": "execute_result"
    }
   ],
   "source": [
    "# Shows attributes of the instance\n",
    "p.__dict__"
   ]
  },
  {
   "cell_type": "code",
   "execution_count": 44,
   "metadata": {},
   "outputs": [
    {
     "data": {
      "text/plain": [
       "{'flavor': 'Onions'}"
      ]
     },
     "execution_count": 44,
     "metadata": {},
     "output_type": "execute_result"
    }
   ],
   "source": [
    "p.flavor = 'Onions'\n",
    "p.__dict__"
   ]
  },
  {
   "cell_type": "code",
   "execution_count": 45,
   "metadata": {},
   "outputs": [
    {
     "data": {
      "text/plain": [
       "mappingproxy({'__module__': '__main__',\n",
       "              '__doc__': 'Pizza class attributes',\n",
       "              'diameter': 40,\n",
       "              'slices': 8,\n",
       "              'flavor': 'Cheese',\n",
       "              'flavor2': None,\n",
       "              '__dict__': <attribute '__dict__' of 'Pizza' objects>,\n",
       "              '__weakref__': <attribute '__weakref__' of 'Pizza' objects>})"
      ]
     },
     "execution_count": 45,
     "metadata": {},
     "output_type": "execute_result"
    }
   ],
   "source": [
    "Pizza.__dict__"
   ]
  },
  {
   "cell_type": "code",
   "execution_count": 48,
   "metadata": {},
   "outputs": [],
   "source": [
    "class Pizza:\n",
    "    '''Pizza class attributes'''\n",
    "    diameter = 40 #cm\n",
    "    slices = 8\n",
    "    \n",
    "    # Its not construnctor per se - the first param is self.\n",
    "    # Self must have already been created.\n",
    "    # It gets the instance and initializes it\n",
    "    def __init__(self, flavor='Cheese', flavor2 = None):\n",
    "        self.flavor = flavor\n",
    "        self.flavor2 = flavor2"
   ]
  },
  {
   "cell_type": "code",
   "execution_count": 49,
   "metadata": {},
   "outputs": [
    {
     "data": {
      "text/plain": [
       "{'flavor': 'Cheese', 'flavor2': None}"
      ]
     },
     "execution_count": 49,
     "metadata": {},
     "output_type": "execute_result"
    }
   ],
   "source": [
    "p = Pizza()\n",
    "p.__dict__"
   ]
  },
  {
   "cell_type": "markdown",
   "metadata": {},
   "source": [
    "Good practices:\n",
    "* Use class attributes for attributes shared by all instances\n",
    "* Attribute that are expected to vary should be instance attributes\n",
    "* Instance attrubutes are all assigned in `__init__` with default values on arguments\n",
    "* PEP412 - optimization shared common keys - economy of memory"
   ]
  },
  {
   "cell_type": "code",
   "execution_count": 56,
   "metadata": {},
   "outputs": [],
   "source": [
    "import geohash\n",
    "\n",
    "class Coordinate:\n",
    "    '''Coordinate on Earth'''\n",
    "    reference_system = 'WGS84'\n",
    "    \n",
    "    def __init__(self, lat=0.0, long=0.0):\n",
    "        self.lat = lat\n",
    "        self.long = long\n",
    "    \n",
    "    def geohash(self):\n",
    "        return geohash.encode(self.lat, self.long)\n",
    "    \n",
    "    def __repr__(self):\n",
    "        return f'Coordinate({self.lat},{self.long})'\n",
    "    \n",
    "    def __str__(self):\n",
    "        # Neat - boolean is subtype of int true=1 and false=0\n",
    "        # thats the index to choose the right charachter\n",
    "        ns = 'NS' [self.lat < 0]\n",
    "        we = 'EW' [self.long < 0]\n",
    "        return f'{abs(self.lat):.1f}°{ns}, {abs(self.long):.1f}°{we}'"
   ]
  },
  {
   "cell_type": "code",
   "execution_count": 57,
   "metadata": {},
   "outputs": [
    {
     "name": "stdout",
     "output_type": "stream",
     "text": [
      "dpmuhfggh08w\n"
     ]
    }
   ],
   "source": [
    "cleveland = Coordinate(41.5, -81.7)\n",
    "print(cleveland.geohash())"
   ]
  },
  {
   "cell_type": "code",
   "execution_count": null,
   "metadata": {},
   "outputs": [],
   "source": []
  }
 ],
 "metadata": {
  "kernelspec": {
   "display_name": "Python 3",
   "language": "python",
   "name": "python3"
  },
  "language_info": {
   "codemirror_mode": {
    "name": "ipython",
    "version": 3
   },
   "file_extension": ".py",
   "mimetype": "text/x-python",
   "name": "python",
   "nbconvert_exporter": "python",
   "pygments_lexer": "ipython3",
   "version": "3.7.5"
  }
 },
 "nbformat": 4,
 "nbformat_minor": 4
}
