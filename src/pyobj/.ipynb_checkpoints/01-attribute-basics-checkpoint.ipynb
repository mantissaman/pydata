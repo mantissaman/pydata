{
 "cells": [
  {
   "cell_type": "code",
   "execution_count": 1,
   "metadata": {},
   "outputs": [
    {
     "name": "stdout",
     "output_type": "stream",
     "text": [
      "3.7.5 (default, Oct 25 2019, 10:52:18) \n",
      "[Clang 4.0.1 (tags/RELEASE_401/final)]\n"
     ]
    }
   ],
   "source": [
    "import sys\n",
    "print(sys.version)"
   ]
  },
  {
   "cell_type": "code",
   "execution_count": 2,
   "metadata": {},
   "outputs": [],
   "source": [
    "class Coordinate:\n",
    "    '''Coordinate on Earth'''"
   ]
  },
  {
   "cell_type": "code",
   "execution_count": 6,
   "metadata": {},
   "outputs": [
    {
     "data": {
      "text/plain": [
       "<__main__.Coordinate at 0x7ff4ee0767d0>"
      ]
     },
     "execution_count": 6,
     "metadata": {},
     "output_type": "execute_result"
    }
   ],
   "source": [
    "cle = Coordinate()\n",
    "cle.lat = 41.4\n",
    "cle.long = -81.8\n",
    "cle"
   ]
  },
  {
   "cell_type": "code",
   "execution_count": 7,
   "metadata": {},
   "outputs": [
    {
     "data": {
      "text/plain": [
       "41.4"
      ]
     },
     "execution_count": 7,
     "metadata": {},
     "output_type": "execute_result"
    }
   ],
   "source": [
    "cle.lat"
   ]
  },
  {
   "cell_type": "markdown",
   "metadata": {},
   "source": [
    "### First Method `__repr__`\n",
    "* Good for exploration/documentation, doctests and debugging\n",
    "* If possible make `__repr__` return string syntax that can be evaled to create new object - `eval(repr(x)) == x`\n",
    "* If not then atleast show class name and attributes `<MyClass ...>`"
   ]
  },
  {
   "cell_type": "code",
   "execution_count": 8,
   "metadata": {},
   "outputs": [],
   "source": [
    "class Coordinate:\n",
    "    '''Coordinate on Earth'''\n",
    "    \n",
    "    def __repr__(self):\n",
    "        return f'Coordinate({self.lat},{self.long})'"
   ]
  },
  {
   "cell_type": "code",
   "execution_count": 9,
   "metadata": {},
   "outputs": [
    {
     "data": {
      "text/plain": [
       "Coordinate(41.4,-81.8)"
      ]
     },
     "execution_count": 9,
     "metadata": {},
     "output_type": "execute_result"
    }
   ],
   "source": [
    "cle = Coordinate()\n",
    "cle.lat = 41.4\n",
    "cle.long = -81.8\n",
    "cle"
   ]
  },
  {
   "cell_type": "code",
   "execution_count": 12,
   "metadata": {},
   "outputs": [
    {
     "data": {
      "text/plain": [
       "'Coordinate(41.4,-81.8)'"
      ]
     },
     "execution_count": 12,
     "metadata": {},
     "output_type": "execute_result"
    }
   ],
   "source": [
    "cle.__repr__() # Dunder are not supposed to be called like this"
   ]
  },
  {
   "cell_type": "code",
   "execution_count": 17,
   "metadata": {},
   "outputs": [
    {
     "data": {
      "text/plain": [
       "'Coordinate(41.4,-81.8)'"
      ]
     },
     "execution_count": 17,
     "metadata": {},
     "output_type": "execute_result"
    }
   ],
   "source": [
    "# This looks non OO but python is looking for faster C functions\n",
    "# same as `len()` , etc.\n",
    "repr(cle) # Neat but doesnt look like a method call"
   ]
  },
  {
   "cell_type": "markdown",
   "metadata": {},
   "source": [
    "#### `__repr__` vs `__str__`\n",
    "* `__repr__` for code\n",
    "* `__str__` for human readability"
   ]
  },
  {
   "cell_type": "code",
   "execution_count": 22,
   "metadata": {},
   "outputs": [],
   "source": [
    "class Coordinate:\n",
    "    '''Coordinate on Earth'''\n",
    "    \n",
    "    def __repr__(self):\n",
    "        return f'Coordinate({self.lat},{self.long})'\n",
    "    \n",
    "    def __str__(self):\n",
    "        # Neat - boolean is subtype of int true=1 and false=0\n",
    "        # thats the index to choose the right charachter\n",
    "        ns = 'NS' [self.lat < 0]\n",
    "        we = 'EW' [self.long < 0]\n",
    "        return f'{abs(self.lat):.1f}°{ns}, {abs(self.long):.1f}°{we}'"
   ]
  },
  {
   "cell_type": "code",
   "execution_count": 23,
   "metadata": {},
   "outputs": [
    {
     "name": "stdout",
     "output_type": "stream",
     "text": [
      "41.4°N, 81.8°W\n"
     ]
    }
   ],
   "source": [
    "cle = Coordinate()\n",
    "cle.lat = 41.4\n",
    "cle.long = -81.8\n",
    "print(cle)"
   ]
  },
  {
   "cell_type": "code",
   "execution_count": 24,
   "metadata": {},
   "outputs": [
    {
     "name": "stdout",
     "output_type": "stream",
     "text": [
      "'Coordinate' object has no attribute 'lat'\n"
     ]
    }
   ],
   "source": [
    "timbuktu = Coordinate()\n",
    "# Not assigning the attributes\n",
    "\n",
    "try:\n",
    "    print(timbuktu)\n",
    "except AttributeError as e:\n",
    "    print(e)"
   ]
  },
  {
   "cell_type": "code",
   "execution_count": null,
   "metadata": {},
   "outputs": [],
   "source": []
  }
 ],
 "metadata": {
  "kernelspec": {
   "display_name": "Python 3",
   "language": "python",
   "name": "python3"
  },
  "language_info": {
   "codemirror_mode": {
    "name": "ipython",
    "version": 3
   },
   "file_extension": ".py",
   "mimetype": "text/x-python",
   "name": "python",
   "nbconvert_exporter": "python",
   "pygments_lexer": "ipython3",
   "version": "3.7.5"
  }
 },
 "nbformat": 4,
 "nbformat_minor": 4
}
