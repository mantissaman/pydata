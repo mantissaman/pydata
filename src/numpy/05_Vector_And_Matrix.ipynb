{
 "cells": [
  {
   "cell_type": "code",
   "execution_count": 4,
   "metadata": {},
   "outputs": [
    {
     "name": "stdout",
     "output_type": "stream",
     "text": [
      "[[0 1]\n",
      " [2 3]\n",
      " [4 5]]\n",
      "[[0 1 2 3 4]\n",
      " [5 6 7 8 9]]\n"
     ]
    }
   ],
   "source": [
    "import numpy as np\n",
    "\n",
    "x = np.arange(6).reshape(3,2)\n",
    "y = np.reshape(np.arange(10), (2,5)) #Alternate way of writing the reshape\n",
    "\n",
    "print(x)\n",
    "print(y)"
   ]
  },
  {
   "cell_type": "code",
   "execution_count": 5,
   "metadata": {},
   "outputs": [
    {
     "data": {
      "text/plain": [
       "array([[ 5,  6,  7,  8,  9],\n",
       "       [15, 20, 25, 30, 35],\n",
       "       [25, 34, 43, 52, 61]])"
      ]
     },
     "execution_count": 5,
     "metadata": {},
     "output_type": "execute_result"
    }
   ],
   "source": [
    "#Dot Product - syntax 1\n",
    "np.dot(x, y)"
   ]
  },
  {
   "cell_type": "code",
   "execution_count": 6,
   "metadata": {},
   "outputs": [
    {
     "data": {
      "text/plain": [
       "array([[ 5,  6,  7,  8,  9],\n",
       "       [15, 20, 25, 30, 35],\n",
       "       [25, 34, 43, 52, 61]])"
      ]
     },
     "execution_count": 6,
     "metadata": {},
     "output_type": "execute_result"
    }
   ],
   "source": [
    "#Dot Product - syntax 2\n",
    "np.matmul(x, y)"
   ]
  },
  {
   "cell_type": "code",
   "execution_count": 8,
   "metadata": {},
   "outputs": [
    {
     "data": {
      "text/plain": [
       "array([[ 5,  6,  7,  8,  9],\n",
       "       [15, 20, 25, 30, 35],\n",
       "       [25, 34, 43, 52, 61]])"
      ]
     },
     "execution_count": 8,
     "metadata": {},
     "output_type": "execute_result"
    }
   ],
   "source": [
    "#Dot Product - syntax 3\n",
    "x@y"
   ]
  },
  {
   "cell_type": "markdown",
   "metadata": {},
   "source": [
    "### Dot product for more than 2 matrix"
   ]
  },
  {
   "cell_type": "code",
   "execution_count": 9,
   "metadata": {},
   "outputs": [
    {
     "data": {
      "text/plain": [
       "array([[ 1700,  1855,  2010,  2165,  2320],\n",
       "       [ 5300,  5770,  6240,  6710,  7180],\n",
       "       [ 8900,  9685, 10470, 11255, 12040],\n",
       "       [12500, 13600, 14700, 15800, 16900]])"
      ]
     },
     "execution_count": 9,
     "metadata": {},
     "output_type": "execute_result"
    }
   ],
   "source": [
    "from numpy.linalg import multi_dot\n",
    "a = np.arange(12).reshape(4,3)\n",
    "b = np.arange(15).reshape(3,5)\n",
    "c = np.arange(25).reshape(5,5)\n",
    "\n",
    "multi_dot([a, b, c])"
   ]
  },
  {
   "cell_type": "code",
   "execution_count": 10,
   "metadata": {},
   "outputs": [
    {
     "data": {
      "text/plain": [
       "array([[ 1700,  1855,  2010,  2165,  2320],\n",
       "       [ 5300,  5770,  6240,  6710,  7180],\n",
       "       [ 8900,  9685, 10470, 11255, 12040],\n",
       "       [12500, 13600, 14700, 15800, 16900]])"
      ]
     },
     "execution_count": 10,
     "metadata": {},
     "output_type": "execute_result"
    }
   ],
   "source": [
    "np.dot(np.dot(a, b),c)"
   ]
  },
  {
   "cell_type": "code",
   "execution_count": 11,
   "metadata": {},
   "outputs": [
    {
     "data": {
      "text/plain": [
       "array([[ 1700,  1855,  2010,  2165,  2320],\n",
       "       [ 5300,  5770,  6240,  6710,  7180],\n",
       "       [ 8900,  9685, 10470, 11255, 12040],\n",
       "       [12500, 13600, 14700, 15800, 16900]])"
      ]
     },
     "execution_count": 11,
     "metadata": {},
     "output_type": "execute_result"
    }
   ],
   "source": [
    "(a@b)@c"
   ]
  },
  {
   "cell_type": "code",
   "execution_count": 12,
   "metadata": {},
   "outputs": [
    {
     "data": {
      "text/plain": [
       "array([[ 1700,  1855,  2010,  2165,  2320],\n",
       "       [ 5300,  5770,  6240,  6710,  7180],\n",
       "       [ 8900,  9685, 10470, 11255, 12040],\n",
       "       [12500, 13600, 14700, 15800, 16900]])"
      ]
     },
     "execution_count": 12,
     "metadata": {},
     "output_type": "execute_result"
    }
   ],
   "source": [
    "a.dot(b).dot(c)"
   ]
  },
  {
   "cell_type": "code",
   "execution_count": 13,
   "metadata": {},
   "outputs": [
    {
     "name": "stdout",
     "output_type": "stream",
     "text": [
      "multi_dot took 0.11596083641052246 seconds\n",
      "np.dot took 0.11885404586791992 seconds\n",
      "@ took 0.1293189525604248 seconds\n"
     ]
    }
   ],
   "source": [
    "import time\n",
    "\n",
    "a = np.arange(120000).reshape(400, 300)\n",
    "b = np.arange(150000).reshape(300, 500)\n",
    "c = np.arange(200000).reshape(500, 400)\n",
    "\n",
    "start = time.time()\n",
    "multi_dot([a, b, c])\n",
    "print('multi_dot took', time.time()-start, 'seconds')\n",
    "\n",
    "start = time.time()\n",
    "np.dot(np.dot(a, b),c)\n",
    "print('np.dot took', time.time()-start, 'seconds')\n",
    "\n",
    "start = time.time()\n",
    "(a@b)@c\n",
    "print('@ took', time.time()-start, 'seconds')"
   ]
  },
  {
   "cell_type": "markdown",
   "metadata": {},
   "source": [
    "### Inner/Outer Products"
   ]
  },
  {
   "cell_type": "code",
   "execution_count": 14,
   "metadata": {},
   "outputs": [
    {
     "name": "stdout",
     "output_type": "stream",
     "text": [
      "[[0 1 2]\n",
      " [3 4 5]\n",
      " [6 7 8]]\n",
      "[0 1 2]\n"
     ]
    }
   ],
   "source": [
    "a = np.arange(9).reshape(3,3)\n",
    "b = np.arange(3)\n",
    "print(a)\n",
    "print(b)"
   ]
  },
  {
   "cell_type": "code",
   "execution_count": 20,
   "metadata": {},
   "outputs": [
    {
     "data": {
      "text/plain": [
       "array([ 5, 14, 23])"
      ]
     },
     "execution_count": 20,
     "metadata": {},
     "output_type": "execute_result"
    }
   ],
   "source": [
    "np.inner(a,b)"
   ]
  },
  {
   "cell_type": "code",
   "execution_count": 17,
   "metadata": {},
   "outputs": [
    {
     "data": {
      "text/plain": [
       "array([[ 0,  0,  0,  0,  0,  0,  0,  0,  0],\n",
       "       [ 0,  1,  2,  3,  4,  5,  6,  7,  8],\n",
       "       [ 0,  2,  4,  6,  8, 10, 12, 14, 16]])"
      ]
     },
     "execution_count": 17,
     "metadata": {},
     "output_type": "execute_result"
    }
   ],
   "source": [
    "np.outer(b,a)"
   ]
  },
  {
   "cell_type": "code",
   "execution_count": 18,
   "metadata": {},
   "outputs": [
    {
     "data": {
      "text/plain": [
       "array([[ 0,  0,  0],\n",
       "       [ 0,  1,  2],\n",
       "       [ 0,  2,  4],\n",
       "       [ 0,  3,  6],\n",
       "       [ 0,  4,  8],\n",
       "       [ 0,  5, 10],\n",
       "       [ 0,  6, 12],\n",
       "       [ 0,  7, 14],\n",
       "       [ 0,  8, 16]])"
      ]
     },
     "execution_count": 18,
     "metadata": {},
     "output_type": "execute_result"
    }
   ],
   "source": [
    "np.outer(a,b)"
   ]
  },
  {
   "cell_type": "markdown",
   "metadata": {},
   "source": [
    "### Tensor Dot Product"
   ]
  },
  {
   "cell_type": "code",
   "execution_count": 21,
   "metadata": {},
   "outputs": [
    {
     "data": {
      "text/plain": [
       "array([[ 800,  830,  860,  890,  920,  950,  980, 1010],\n",
       "       [ 920,  956,  992, 1028, 1064, 1100, 1136, 1172]])"
      ]
     },
     "execution_count": 21,
     "metadata": {},
     "output_type": "execute_result"
    }
   ],
   "source": [
    "a = np.arange(12).reshape(2,3,2)\n",
    "b = np.arange(48).reshape(3,2,8)\n",
    "c = np.tensordot(a, b, axes =([1,0], [0,1]))\n",
    "c"
   ]
  },
  {
   "cell_type": "code",
   "execution_count": null,
   "metadata": {},
   "outputs": [],
   "source": []
  }
 ],
 "metadata": {
  "kernelspec": {
   "display_name": "Python 3",
   "language": "python",
   "name": "python3"
  },
  "language_info": {
   "codemirror_mode": {
    "name": "ipython",
    "version": 3
   },
   "file_extension": ".py",
   "mimetype": "text/x-python",
   "name": "python",
   "nbconvert_exporter": "python",
   "pygments_lexer": "ipython3",
   "version": "3.7.6"
  }
 },
 "nbformat": 4,
 "nbformat_minor": 4
}
