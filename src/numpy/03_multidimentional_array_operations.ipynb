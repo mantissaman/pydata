{
 "cells": [
  {
   "cell_type": "code",
   "execution_count": 2,
   "metadata": {},
   "outputs": [
    {
     "name": "stdout",
     "output_type": "stream",
     "text": [
      "[[1. 1. 1. 1.]\n",
      " [1. 1. 1. 1.]\n",
      " [1. 1. 1. 1.]\n",
      " [1. 1. 1. 1.]]\n",
      "[[4. 4. 4. 4.]\n",
      " [4. 4. 4. 4.]\n",
      " [4. 4. 4. 4.]\n",
      " [4. 4. 4. 4.]]\n"
     ]
    }
   ],
   "source": [
    "import numpy as np\n",
    "\n",
    "# Create 4 X 4 array of ones\n",
    "c = np.ones((4, 4))\n",
    "\n",
    "# Cross Product\n",
    "print(c*c)\n",
    "\n",
    "# Dot Product\n",
    "print(c.dot(c))"
   ]
  },
  {
   "cell_type": "markdown",
   "metadata": {},
   "source": [
    "# Stacking\n",
    "Merging two arrays. In 2 dimension arrays think **vstack** as appending rows and **hstack** as appending columns\n"
   ]
  },
  {
   "cell_type": "code",
   "execution_count": 3,
   "metadata": {},
   "outputs": [
    {
     "name": "stdout",
     "output_type": "stream",
     "text": [
      "[[0 1 2 3 4]\n",
      " [5 6 7 8 9]]\n",
      "[[ 0  1  2  3  4]\n",
      " [ 5  6  7  8  9]\n",
      " [10 11 12 13 14]]\n"
     ]
    }
   ],
   "source": [
    "# Here we have two arrays with 5 column each.\n",
    "y = np.arange(15).reshape(3,5)\n",
    "x = np.arange(10).reshape(2,5)\n",
    "print(x)\n",
    "print(y)"
   ]
  },
  {
   "cell_type": "code",
   "execution_count": 5,
   "metadata": {},
   "outputs": [
    {
     "name": "stdout",
     "output_type": "stream",
     "text": [
      "[[ 0  1  2  3  4]\n",
      " [ 5  6  7  8  9]\n",
      " [ 0  1  2  3  4]\n",
      " [ 5  6  7  8  9]\n",
      " [10 11 12 13 14]]\n"
     ]
    }
   ],
   "source": [
    "# Stack them\n",
    "new_array = np.vstack((x,y))\n",
    "print(new_array)"
   ]
  },
  {
   "cell_type": "code",
   "execution_count": 7,
   "metadata": {},
   "outputs": [
    {
     "name": "stdout",
     "output_type": "stream",
     "text": [
      "[[0 1]\n",
      " [2 3]\n",
      " [4 5]]\n",
      "[[0 1 2]\n",
      " [3 4 5]\n",
      " [6 7 8]]\n"
     ]
    }
   ],
   "source": [
    "# Here we have two arrays with 3 rows each.\n",
    "y = np.arange(9).reshape(3,3)\n",
    "x = np.arange(6).reshape(3,2)\n",
    "print(x)\n",
    "print(y)"
   ]
  },
  {
   "cell_type": "code",
   "execution_count": 8,
   "metadata": {},
   "outputs": [
    {
     "name": "stdout",
     "output_type": "stream",
     "text": [
      "[[0 1 0 1 2]\n",
      " [2 3 3 4 5]\n",
      " [4 5 6 7 8]]\n"
     ]
    }
   ],
   "source": [
    "# Stack them horizontally\n",
    "new_array = np.hstack((x,y))\n",
    "print(new_array)"
   ]
  },
  {
   "cell_type": "markdown",
   "metadata": {},
   "source": [
    "### Example of stacking\n",
    "Lets say we have a dataset of 100 rows and 10 columns (features) and if we want to draaw staticstics per column, we can use stakcing to summarize the information.\n",
    "\n",
    "To understand skewness and kurtosis mesures see: https://codeburst.io/2-important-statistics-terms-you-need-to-know-in-data-science-skewness-and-kurtosis-388fef94eeaa\n"
   ]
  },
  {
   "cell_type": "code",
   "execution_count": 14,
   "metadata": {},
   "outputs": [
    {
     "name": "stdout",
     "output_type": "stream",
     "text": [
      "[[ 0.48348444  0.09674714 -0.0207239  -1.34720052  0.00311088  0.99962794]\n",
      " [ 0.52093943  0.08032375 -0.11221435 -0.94207943  0.02065492  0.99963117]\n",
      " [ 0.46184178  0.08330569  0.18543054 -1.21318789  0.00657433  0.97897298]\n",
      " [ 0.5315323   0.07715898 -0.11152488 -1.20683201  0.02837209  0.99455791]\n",
      " [ 0.4905059   0.08106651  0.0740891  -1.21210961  0.03070341  0.99363069]\n",
      " [ 0.52553242  0.08234713 -0.22301843 -1.09017187  0.01383873  0.98535908]\n",
      " [ 0.44583226  0.08368623  0.39601575 -1.12130804  0.01019757  0.99278139]\n",
      " [ 0.50466555  0.08202902 -0.09610417 -1.13779545  0.00491567  0.99857987]\n",
      " [ 0.48990648  0.08876485  0.02158844 -1.28279764  0.0060192   0.99040873]\n",
      " [ 0.45006007  0.08083109  0.23006072 -1.14383884  0.01945353  0.99749261]]\n"
     ]
    }
   ],
   "source": [
    "from scipy import stats\n",
    "x= np.random.rand(100,10)\n",
    "\n",
    "#scipy stats method will derive all the statistics\n",
    "n, min_max, mean, var, skew, kurt = stats.describe(x)\n",
    "\n",
    "#now stack them vertically \n",
    "new_array = np.vstack((mean,var,skew,kurt,min_max[0],min_max[1]))\n",
    "\n",
    "#Print the statistics for all 10 columns\n",
    "print(new_array.T)"
   ]
  },
  {
   "cell_type": "code",
   "execution_count": null,
   "metadata": {},
   "outputs": [],
   "source": []
  }
 ],
 "metadata": {
  "kernelspec": {
   "display_name": "Python 3",
   "language": "python",
   "name": "python3"
  },
  "language_info": {
   "codemirror_mode": {
    "name": "ipython",
    "version": 3
   },
   "file_extension": ".py",
   "mimetype": "text/x-python",
   "name": "python",
   "nbconvert_exporter": "python",
   "pygments_lexer": "ipython3",
   "version": "3.7.6"
  }
 },
 "nbformat": 4,
 "nbformat_minor": 2
}
