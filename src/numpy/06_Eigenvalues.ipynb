{
 "cells": [
  {
   "cell_type": "code",
   "execution_count": 2,
   "metadata": {},
   "outputs": [
    {
     "data": {
      "text/plain": [
       "(569, 30)"
      ]
     },
     "execution_count": 2,
     "metadata": {},
     "output_type": "execute_result"
    }
   ],
   "source": [
    "import numpy as np\n",
    "from sklearn import decomposition, datasets\n",
    "from sklearn.preprocessing import StandardScaler\n",
    "\n",
    "data = datasets.load_breast_cancer()\n",
    "cancer = data.data\n",
    "cancer = StandardScaler().fit_transform(cancer) # mean=0; variance=1; z = (value - mean)/(standad deviation)\n",
    "cancer.shape"
   ]
  },
  {
   "cell_type": "code",
   "execution_count": 5,
   "metadata": {},
   "outputs": [
    {
     "data": {
      "text/plain": [
       "array([[17.99],\n",
       "       [20.57],\n",
       "       [19.69],\n",
       "       [11.42],\n",
       "       [20.29],\n",
       "       [12.45],\n",
       "       [18.25],\n",
       "       [13.71],\n",
       "       [13.  ],\n",
       "       [12.46]])"
      ]
     },
     "execution_count": 5,
     "metadata": {},
     "output_type": "execute_result"
    }
   ],
   "source": [
    "before = data.data\n",
    "before[:10, :1] #First 10 rows 1st column"
   ]
  },
  {
   "cell_type": "code",
   "execution_count": 6,
   "metadata": {},
   "outputs": [
    {
     "data": {
      "text/plain": [
       "array([[ 1.09706398],\n",
       "       [ 1.82982061],\n",
       "       [ 1.57988811],\n",
       "       [-0.76890929],\n",
       "       [ 1.75029663],\n",
       "       [-0.47637467],\n",
       "       [ 1.17090767],\n",
       "       [-0.11851678],\n",
       "       [-0.32016686],\n",
       "       [-0.47353452]])"
      ]
     },
     "execution_count": 6,
     "metadata": {},
     "output_type": "execute_result"
    }
   ],
   "source": [
    "cancer[:10, :1] #First 10 rows 1st column"
   ]
  },
  {
   "cell_type": "markdown",
   "metadata": {},
   "source": [
    "Calculate covariance matrix in order to calculate eigenvale and eigenvector"
   ]
  },
  {
   "cell_type": "code",
   "execution_count": 7,
   "metadata": {},
   "outputs": [
    {
     "data": {
      "text/plain": [
       "(30, 30)"
      ]
     },
     "execution_count": 7,
     "metadata": {},
     "output_type": "execute_result"
    }
   ],
   "source": [
    "covariance_matrix= np.cov(cancer, rowvar=False) #rovar is analysis space - we are doing per column\n",
    "covariance_matrix.shape"
   ]
  },
  {
   "cell_type": "code",
   "execution_count": 30,
   "metadata": {},
   "outputs": [
    {
     "name": "stdout",
     "output_type": "stream",
     "text": [
      "13.304990794374563\n",
      "5.701374603726144\n",
      "2.8229101550062303\n",
      "1.9841275177301978\n",
      "1.6516332423301194\n",
      "1.2094822398029734\n",
      "0.6764088817009056\n",
      "0.47745625468950725\n",
      "0.4176287821078174\n",
      "0.35131087488173407\n",
      "0.2944331534911643\n",
      "0.261621161366121\n",
      "0.24178242132831412\n",
      "0.15728614921759332\n",
      "0.0943006956010556\n",
      "0.08000340447737729\n",
      "0.059503613530432396\n",
      "0.05271142221014806\n",
      "0.049564700212981545\n",
      "0.031214260553066586\n",
      "0.030025663090428402\n",
      "0.027487711338904378\n",
      "0.024383691354590994\n",
      "0.018086793984305433\n",
      "0.015508527134418687\n",
      "0.008192037117607095\n",
      "0.006912612579184526\n",
      "0.0015921360011973828\n",
      "0.0007501214127189963\n",
      "0.00013327905666413948\n"
     ]
    }
   ],
   "source": [
    "eig_val_cov, eig_vec_cov = np.linalg.eig(covariance_matrix)\n",
    "eig_pairs = [(np.abs(eig_val_cov[i]), eig_vec_cov[:,i]) for i in range(len(eig_val_cov))]\n",
    "\n",
    "sorted_pairs = eig_pairs.sort(key=lambda x: x[0], reverse=True)\n",
    "for i in eig_pairs:\n",
    "    print(i[0])"
   ]
  },
  {
   "cell_type": "code",
   "execution_count": 31,
   "metadata": {},
   "outputs": [
    {
     "data": {
      "text/plain": [
       "(13.304990794374563,\n",
       " array([0.21890244, 0.10372458, 0.22753729, 0.22099499, 0.14258969,\n",
       "        0.23928535, 0.25840048, 0.26085376, 0.13816696, 0.06436335,\n",
       "        0.20597878, 0.01742803, 0.21132592, 0.20286964, 0.01453145,\n",
       "        0.17039345, 0.15358979, 0.1834174 , 0.04249842, 0.10256832,\n",
       "        0.22799663, 0.10446933, 0.23663968, 0.22487053, 0.12795256,\n",
       "        0.21009588, 0.22876753, 0.25088597, 0.12290456, 0.13178394]))"
      ]
     },
     "execution_count": 31,
     "metadata": {},
     "output_type": "execute_result"
    }
   ],
   "source": [
    "eig_pairs[0]"
   ]
  },
  {
   "cell_type": "markdown",
   "metadata": {},
   "source": [
    "Higher the eigenvalue for the column more relevant it is to the distribution. In above example first 2 values have most relevance rest can be dropped to reduce dimenstionality."
   ]
  },
  {
   "cell_type": "code",
   "execution_count": 33,
   "metadata": {},
   "outputs": [
    {
     "data": {
      "text/plain": [
       "(30, 2)"
      ]
     },
     "execution_count": 33,
     "metadata": {},
     "output_type": "execute_result"
    }
   ],
   "source": [
    "matrix_w = np.hstack([eig_pairs[0][1].reshape(30,1), eig_pairs[1][1].reshape(30,1)])\n",
    "matrix_w.shape"
   ]
  },
  {
   "cell_type": "code",
   "execution_count": 34,
   "metadata": {},
   "outputs": [],
   "source": [
    "transformed = matrix_w.T.dot(cancer.T)\n",
    "transformed = transformed.T"
   ]
  },
  {
   "cell_type": "code",
   "execution_count": 35,
   "metadata": {},
   "outputs": [
    {
     "data": {
      "text/plain": [
       "(569, 2)"
      ]
     },
     "execution_count": 35,
     "metadata": {},
     "output_type": "execute_result"
    }
   ],
   "source": [
    "transformed.shape"
   ]
  },
  {
   "cell_type": "code",
   "execution_count": 36,
   "metadata": {},
   "outputs": [
    {
     "data": {
      "text/plain": [
       "array([9.19283683, 1.94858307])"
      ]
     },
     "execution_count": 36,
     "metadata": {},
     "output_type": "execute_result"
    }
   ],
   "source": [
    "transformed[0]"
   ]
  },
  {
   "cell_type": "markdown",
   "metadata": {},
   "source": [
    "### Using PCA"
   ]
  },
  {
   "cell_type": "code",
   "execution_count": 37,
   "metadata": {},
   "outputs": [
    {
     "data": {
      "text/plain": [
       "array([9.19283683, 1.94858307])"
      ]
     },
     "execution_count": 37,
     "metadata": {},
     "output_type": "execute_result"
    }
   ],
   "source": [
    "pca = decomposition.PCA(n_components=2)\n",
    "x_std = StandardScaler().fit_transform(cancer)\n",
    "pca.fit_transform(x_std)[0]"
   ]
  },
  {
   "cell_type": "code",
   "execution_count": null,
   "metadata": {},
   "outputs": [],
   "source": []
  }
 ],
 "metadata": {
  "kernelspec": {
   "display_name": "Python 3",
   "language": "python",
   "name": "python3"
  },
  "language_info": {
   "codemirror_mode": {
    "name": "ipython",
    "version": 3
   },
   "file_extension": ".py",
   "mimetype": "text/x-python",
   "name": "python",
   "nbconvert_exporter": "python",
   "pygments_lexer": "ipython3",
   "version": "3.7.5"
  }
 },
 "nbformat": 4,
 "nbformat_minor": 4
}
