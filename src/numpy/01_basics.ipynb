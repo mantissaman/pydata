{
 "cells": [
  {
   "cell_type": "markdown",
   "metadata": {},
   "source": [
    "# Matrix Multiplication"
   ]
  },
  {
   "cell_type": "code",
   "execution_count": 5,
   "metadata": {},
   "outputs": [
    {
     "data": {
      "text/plain": [
       "array([[14, 13],\n",
       "       [12, 20]])"
      ]
     },
     "execution_count": 5,
     "metadata": {},
     "output_type": "execute_result"
    }
   ],
   "source": [
    "import numpy as np\n",
    "x = np.array([\n",
    "    [1, 0, 4],\n",
    "    [3, 3, 1]\n",
    "])\n",
    "\n",
    "y = np.array ([\n",
    "    [2, 5],\n",
    "    [1, 1],\n",
    "    [3, 2]\n",
    "])\n",
    "\n",
    "x.dot(y)"
   ]
  },
  {
   "cell_type": "markdown",
   "metadata": {},
   "source": [
    "# Basics of NumPy array objects\n",
    "\n",
    "**ndarray** is homogeneous(item with same sise in memory) multidimensional array \n",
    "\n",
    "### Attributes"
   ]
  },
  {
   "cell_type": "code",
   "execution_count": 7,
   "metadata": {},
   "outputs": [
    {
     "name": "stdout",
     "output_type": "stream",
     "text": [
      "Type: <class 'numpy.ndarray'>\n",
      "Shape: (2, 3)\n",
      "Size: 6\n",
      "Dimensions: 2\n",
      "Data Type: int64\n",
      "Bytes: 48\n"
     ]
    }
   ],
   "source": [
    "import numpy as np\n",
    "\n",
    "x = np.array([\n",
    "    [1, 0, 4],\n",
    "    [3, 3, 1]\n",
    "])\n",
    "\n",
    "print('Type: {}'.format(type(x)))\n",
    "print('Shape: {}'.format(x.shape))\n",
    "print('Size: {}'.format(x.size))\n",
    "print('Dimensions: {}'.format(x.ndim))\n",
    "print('Data Type: {}'.format(x.dtype))\n",
    "print('Bytes: {}'.format(x.nbytes))"
   ]
  },
  {
   "cell_type": "markdown",
   "metadata": {},
   "source": [
    "### Data Types"
   ]
  },
  {
   "cell_type": "code",
   "execution_count": 9,
   "metadata": {},
   "outputs": [
    {
     "name": "stdout",
     "output_type": "stream",
     "text": [
      "Data Type: float64\n",
      "Bytes: 48\n",
      "Data Type: complex128\n",
      "Bytes: 96\n",
      "Data Type: uint32\n",
      "Bytes: 24\n",
      "Data Type: int32\n",
      "Bytes: 24\n",
      "Data Type: int64\n",
      "Bytes: 48\n"
     ]
    }
   ],
   "source": [
    "x = np.array([\n",
    "    [1, 0, 4],\n",
    "    [3, 3, 1]\n",
    "], dtype= np.float)\n",
    "\n",
    "print('Data Type: {}'.format(x.dtype))\n",
    "print('Bytes: {}'.format(x.nbytes))\n",
    "\n",
    "x = np.array([\n",
    "    [1, 0, 4],\n",
    "    [3, 3, 1]\n",
    "], dtype= np.complex)\n",
    "\n",
    "print('Data Type: {}'.format(x.dtype))\n",
    "print('Bytes: {}'.format(x.nbytes))\n",
    "\n",
    "x = np.array([\n",
    "    [1, 0, 4],\n",
    "    [3, 3, 1]\n",
    "], dtype= np.uint32)\n",
    "\n",
    "print('Data Type: {}'.format(x.dtype))\n",
    "print('Bytes: {}'.format(x.nbytes))\n",
    "\n",
    "x = np.array([\n",
    "    [1, 0, 4],\n",
    "    [3, 3, 1]\n",
    "], dtype= np.int32)\n",
    "\n",
    "print('Data Type: {}'.format(x.dtype))\n",
    "print('Bytes: {}'.format(x.nbytes))\n",
    "\n",
    "x = np.array([\n",
    "    [1, 0, 4],\n",
    "    [3, 3, 1]\n",
    "], dtype= np.int64)\n",
    "\n",
    "print('Data Type: {}'.format(x.dtype))\n",
    "print('Bytes: {}'.format(x.nbytes))"
   ]
  },
  {
   "cell_type": "markdown",
   "metadata": {},
   "source": [
    "### Change data type\n",
    "We can create a copy (not inplace change) with different type or cast using **astype**"
   ]
  },
  {
   "cell_type": "code",
   "execution_count": 10,
   "metadata": {},
   "outputs": [
    {
     "name": "stdout",
     "output_type": "stream",
     "text": [
      "Data Type: float64\n",
      "Bytes: 48\n",
      "Data Type: int64\n",
      "Bytes: 48\n"
     ]
    }
   ],
   "source": [
    "x_copy = np.array(x, dtype=float)\n",
    "print('Data Type: {}'.format(x_copy.dtype))\n",
    "print('Bytes: {}'.format(x_copy.nbytes))\n",
    "\n",
    "x_copy_int = x_copy.astype(np.int)\n",
    "print('Data Type: {}'.format(x_copy_int.dtype))\n",
    "print('Bytes: {}'.format(x_copy_int.nbytes))"
   ]
  },
  {
   "cell_type": "markdown",
   "metadata": {},
   "source": [
    "### Decide data type carefully\n",
    "For large arrays the data type impacts the memory usage. As an example for 100K rows with 100 columns, float64 data type will take 40MB and for float32 it will be 80MB."
   ]
  },
  {
   "cell_type": "code",
   "execution_count": 13,
   "metadata": {},
   "outputs": [
    {
     "name": "stdout",
     "output_type": "stream",
     "text": [
      "Data Type: float64\n",
      "Bytes: 80000000\n",
      "Data Type: float32\n",
      "Bytes: 40000000\n"
     ]
    }
   ],
   "source": [
    "data_cancer = np.random.rand(100000, 100)\n",
    "print('Data Type: {}'.format(data_cancer.dtype))\n",
    "print('Bytes: {}'.format(data_cancer.nbytes))\n",
    "\n",
    "data_cancer_new = data_cancer.astype(np.float32)\n",
    "print('Data Type: {}'.format(data_cancer_new.dtype))\n",
    "print('Bytes: {}'.format(data_cancer_new.nbytes))\n"
   ]
  },
  {
   "cell_type": "code",
   "execution_count": null,
   "metadata": {},
   "outputs": [],
   "source": []
  }
 ],
 "metadata": {
  "kernelspec": {
   "display_name": "Python 3",
   "language": "python",
   "name": "python3"
  },
  "language_info": {
   "codemirror_mode": {
    "name": "ipython",
    "version": 3
   },
   "file_extension": ".py",
   "mimetype": "text/x-python",
   "name": "python",
   "nbconvert_exporter": "python",
   "pygments_lexer": "ipython3",
   "version": "3.7.6"
  }
 },
 "nbformat": 4,
 "nbformat_minor": 2
}
