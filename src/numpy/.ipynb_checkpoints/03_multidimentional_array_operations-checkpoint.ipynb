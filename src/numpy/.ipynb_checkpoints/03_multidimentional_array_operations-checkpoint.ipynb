{
 "cells": [
  {
   "cell_type": "code",
   "execution_count": 1,
   "metadata": {},
   "outputs": [
    {
     "name": "stdout",
     "output_type": "stream",
     "text": [
      "[[1. 1. 1. 1.]\n",
      " [1. 1. 1. 1.]\n",
      " [1. 1. 1. 1.]\n",
      " [1. 1. 1. 1.]]\n",
      "[[4. 4. 4. 4.]\n",
      " [4. 4. 4. 4.]\n",
      " [4. 4. 4. 4.]\n",
      " [4. 4. 4. 4.]]\n"
     ]
    }
   ],
   "source": [
    "import numpy as np\n",
    "\n",
    "# Create 4 X 4 array of ones\n",
    "c = np.ones((4, 4))\n",
    "\n",
    "# Cross Product\n",
    "print(c*c)\n",
    "\n",
    "# Dot Product\n",
    "print(c.dot(c))"
   ]
  },
  {
   "cell_type": "markdown",
   "metadata": {},
   "source": [
    "# Stacking\n",
    "Merging two arrays. In 2 dimension arrays think **vstack** as appending rows and **hstack** as appending columns\n"
   ]
  },
  {
   "cell_type": "code",
   "execution_count": 2,
   "metadata": {},
   "outputs": [
    {
     "name": "stdout",
     "output_type": "stream",
     "text": [
      "[[0 1 2 3 4]\n",
      " [5 6 7 8 9]]\n",
      "[[ 0  1  2  3  4]\n",
      " [ 5  6  7  8  9]\n",
      " [10 11 12 13 14]]\n"
     ]
    }
   ],
   "source": [
    "# Here we have two arrays with 5 column each.\n",
    "y = np.arange(15).reshape(3,5)\n",
    "x = np.arange(10).reshape(2,5)\n",
    "print(x)\n",
    "print(y)"
   ]
  },
  {
   "cell_type": "code",
   "execution_count": 3,
   "metadata": {},
   "outputs": [
    {
     "name": "stdout",
     "output_type": "stream",
     "text": [
      "[[ 0  1  2  3  4]\n",
      " [ 5  6  7  8  9]\n",
      " [ 0  1  2  3  4]\n",
      " [ 5  6  7  8  9]\n",
      " [10 11 12 13 14]]\n"
     ]
    }
   ],
   "source": [
    "# Stack them\n",
    "new_array = np.vstack((x,y))\n",
    "print(new_array)"
   ]
  },
  {
   "cell_type": "code",
   "execution_count": 4,
   "metadata": {},
   "outputs": [
    {
     "name": "stdout",
     "output_type": "stream",
     "text": [
      "[[0 1]\n",
      " [2 3]\n",
      " [4 5]]\n",
      "[[0 1 2]\n",
      " [3 4 5]\n",
      " [6 7 8]]\n"
     ]
    }
   ],
   "source": [
    "# Here we have two arrays with 3 rows each.\n",
    "y = np.arange(9).reshape(3,3)\n",
    "x = np.arange(6).reshape(3,2)\n",
    "print(x)\n",
    "print(y)"
   ]
  },
  {
   "cell_type": "code",
   "execution_count": 5,
   "metadata": {},
   "outputs": [
    {
     "name": "stdout",
     "output_type": "stream",
     "text": [
      "[[0 1 0 1 2]\n",
      " [2 3 3 4 5]\n",
      " [4 5 6 7 8]]\n"
     ]
    }
   ],
   "source": [
    "# Stack them horizontally\n",
    "new_array = np.hstack((x,y))\n",
    "print(new_array)"
   ]
  },
  {
   "cell_type": "markdown",
   "metadata": {},
   "source": [
    "### Example of stacking\n",
    "Lets say we have a dataset of 100 rows and 10 columns (features) and if we want to draaw staticstics per column, we can use stakcing to summarize the information.\n",
    "\n",
    "To understand skewness and kurtosis mesures see: https://codeburst.io/2-important-statistics-terms-you-need-to-know-in-data-science-skewness-and-kurtosis-388fef94eeaa\n"
   ]
  },
  {
   "cell_type": "code",
   "execution_count": 6,
   "metadata": {},
   "outputs": [
    {
     "name": "stdout",
     "output_type": "stream",
     "text": [
      "[[ 4.84483879e-01  9.93595520e-02  8.11534949e-02 -1.31087330e+00\n",
      "   2.80647394e-03  9.99395310e-01]\n",
      " [ 5.14920465e-01  8.61108178e-02 -2.42225754e-02 -1.16463700e+00\n",
      "   2.51078418e-04  9.97589687e-01]\n",
      " [ 5.32700611e-01  8.99330967e-02 -1.34360397e-01 -1.14509174e+00\n",
      "   7.69218770e-03  9.94483291e-01]\n",
      " [ 4.49757209e-01  8.24285904e-02  1.71605052e-01 -1.05414232e+00\n",
      "   5.58584143e-03  9.97929751e-01]\n",
      " [ 5.06043018e-01  9.24241159e-02 -8.93389324e-02 -1.46059087e+00\n",
      "   5.29137519e-03  9.86582052e-01]\n",
      " [ 4.94356429e-01  7.56801847e-02 -2.01703815e-02 -1.11908931e+00\n",
      "   1.70669330e-02  9.81645263e-01]\n",
      " [ 4.84602740e-01  8.62668071e-02  5.74149277e-02 -1.22089777e+00\n",
      "   7.79204559e-03  9.97468079e-01]\n",
      " [ 4.98738663e-01  8.46005913e-02  5.40350603e-02 -1.27496020e+00\n",
      "   7.94756146e-03  9.82150542e-01]\n",
      " [ 4.91139140e-01  8.19377771e-02 -6.23904556e-02 -1.19373654e+00\n",
      "   7.57957868e-03  9.87025647e-01]\n",
      " [ 4.84261534e-01  9.77259401e-02  1.02150146e-01 -1.31233259e+00\n",
      "   2.94906903e-03  9.93020611e-01]]\n"
     ]
    }
   ],
   "source": [
    "from scipy import stats\n",
    "x= np.random.rand(100,10)\n",
    "\n",
    "#scipy stats method will derive all the statistics\n",
    "n, min_max, mean, var, skew, kurt = stats.describe(x)\n",
    "\n",
    "#now stack them vertically \n",
    "new_array = np.vstack((mean,var,skew,kurt,min_max[0],min_max[1]))\n",
    "\n",
    "#Print the statistics for all 10 columns\n",
    "print(new_array.T)"
   ]
  },
  {
   "cell_type": "markdown",
   "metadata": {},
   "source": [
    "### Mask Array Elements"
   ]
  },
  {
   "cell_type": "code",
   "execution_count": 8,
   "metadata": {},
   "outputs": [
    {
     "name": "stdout",
     "output_type": "stream",
     "text": [
      "[0 1 2 3 4 5]\n",
      "2.5\n"
     ]
    },
    {
     "data": {
      "text/plain": [
       "3.0"
      ]
     },
     "execution_count": 8,
     "metadata": {},
     "output_type": "execute_result"
    }
   ],
   "source": [
    "import numpy.ma as ma\n",
    "x = np.arange(6) # [0,1,2,3,4,5]\n",
    "print (x)\n",
    "print(x.mean())\n",
    "masked_array = ma.masked_array(x, mask=[1,0,0,0,0,0])\n",
    "masked_array.mean()"
   ]
  },
  {
   "cell_type": "markdown",
   "metadata": {},
   "source": [
    "Masking is useful to replace NaN values"
   ]
  },
  {
   "cell_type": "code",
   "execution_count": 9,
   "metadata": {},
   "outputs": [
    {
     "data": {
      "text/plain": [
       "array([[nan, nan, nan, nan, nan],\n",
       "       [ 5.,  6.,  7.,  8.,  9.],\n",
       "       [10., 11., 12., 13., 14.],\n",
       "       [15., 16., 17., 18., 19.],\n",
       "       [20., 21., 22., 23., 24.]])"
      ]
     },
     "execution_count": 9,
     "metadata": {},
     "output_type": "execute_result"
    }
   ],
   "source": [
    "x = np.arange(25, dtype=float).reshape(5,5)\n",
    "x[x<5] =np.nan #make first row NaN\n",
    "x"
   ]
  },
  {
   "cell_type": "code",
   "execution_count": 11,
   "metadata": {},
   "outputs": [
    {
     "data": {
      "text/plain": [
       "array([[12.5, 13.5, 14.5, 15.5, 16.5],\n",
       "       [ 5. ,  6. ,  7. ,  8. ,  9. ],\n",
       "       [10. , 11. , 12. , 13. , 14. ],\n",
       "       [15. , 16. , 17. , 18. , 19. ],\n",
       "       [20. , 21. , 22. , 23. , 24. ]])"
      ]
     },
     "execution_count": 11,
     "metadata": {},
     "output_type": "execute_result"
    }
   ],
   "source": [
    "#np.where(condition, value for true, value for false) - its like Excel If formula\n",
    "np.where(np.isnan(x), ma.array(x, mask=np.isnan(x)).mean(axis=0), x) # replace by column mean for non NaN values"
   ]
  },
  {
   "cell_type": "code",
   "execution_count": null,
   "metadata": {},
   "outputs": [],
   "source": []
  }
 ],
 "metadata": {
  "kernelspec": {
   "display_name": "Python 3",
   "language": "python",
   "name": "python3"
  },
  "language_info": {
   "codemirror_mode": {
    "name": "ipython",
    "version": 3
   },
   "file_extension": ".py",
   "mimetype": "text/x-python",
   "name": "python",
   "nbconvert_exporter": "python",
   "pygments_lexer": "ipython3",
   "version": "3.7.6"
  }
 },
 "nbformat": 4,
 "nbformat_minor": 2
}
