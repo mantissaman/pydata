{
 "cells": [
  {
   "cell_type": "code",
   "execution_count": 1,
   "metadata": {},
   "outputs": [
    {
     "name": "stdout",
     "output_type": "stream",
     "text": [
      "Type: <class 'numpy.ndarray'>\n"
     ]
    }
   ],
   "source": [
    "import numpy as np\n",
    "\n",
    "my_list = [2, 4, 8, 16]\n",
    "\n",
    "#create array using a list\n",
    "my_array = np.asarray(my_list)\n",
    "\n",
    "print(\"Type: {}\".format(type(my_array)))"
   ]
  },
  {
   "cell_type": "markdown",
   "metadata": {},
   "source": [
    "### Array Arithmetic\n",
    "No iterations needed"
   ]
  },
  {
   "cell_type": "code",
   "execution_count": 2,
   "metadata": {},
   "outputs": [
    {
     "name": "stdout",
     "output_type": "stream",
     "text": [
      "[ 4  6 10 18]\n"
     ]
    }
   ],
   "source": [
    "print(my_array + 2)"
   ]
  },
  {
   "cell_type": "code",
   "execution_count": 3,
   "metadata": {},
   "outputs": [
    {
     "name": "stdout",
     "output_type": "stream",
     "text": [
      "[ 1  3  7 15]\n"
     ]
    }
   ],
   "source": [
    "print(my_array - 1)"
   ]
  },
  {
   "cell_type": "code",
   "execution_count": 4,
   "metadata": {},
   "outputs": [
    {
     "name": "stdout",
     "output_type": "stream",
     "text": [
      "[ 4  8 16 32]\n"
     ]
    }
   ],
   "source": [
    "print(my_array * 2)"
   ]
  },
  {
   "cell_type": "code",
   "execution_count": 5,
   "metadata": {},
   "outputs": [
    {
     "name": "stdout",
     "output_type": "stream",
     "text": [
      "[0.66666667 1.33333333 2.66666667 5.33333333]\n"
     ]
    }
   ],
   "source": [
    "print(my_array / 3 )"
   ]
  },
  {
   "cell_type": "markdown",
   "metadata": {},
   "source": [
    "# Create NumPy Arrays"
   ]
  },
  {
   "cell_type": "code",
   "execution_count": 6,
   "metadata": {},
   "outputs": [
    {
     "name": "stdout",
     "output_type": "stream",
     "text": [
      "[3. 3. 3. 3.]\n",
      "[-1.  1.  5. 13.]\n",
      "[0.66666667 1.33333333 2.66666667 5.33333333]\n"
     ]
    }
   ],
   "source": [
    "second_array = np.zeros(4) + 3\n",
    "print(second_array)\n",
    "print(my_array - second_array)\n",
    "print(my_array / second_array)"
   ]
  },
  {
   "cell_type": "code",
   "execution_count": 7,
   "metadata": {},
   "outputs": [
    {
     "name": "stdout",
     "output_type": "stream",
     "text": [
      "[4. 4. 4. 4.]\n",
      "[-2.  0.  4. 12.]\n",
      "[0.5 1.  2.  4. ]\n"
     ]
    }
   ],
   "source": [
    "second_array = np.ones(4) + 3\n",
    "print(second_array)\n",
    "print(my_array - second_array)\n",
    "print(my_array / second_array)"
   ]
  },
  {
   "cell_type": "code",
   "execution_count": 8,
   "metadata": {},
   "outputs": [
    {
     "name": "stdout",
     "output_type": "stream",
     "text": [
      "[[1. 0. 0. 0.]\n",
      " [0. 1. 0. 0.]\n",
      " [0. 0. 1. 0.]\n",
      " [0. 0. 0. 1.]]\n"
     ]
    }
   ],
   "source": [
    "second_array = np.identity(4)\n",
    "print(second_array)"
   ]
  },
  {
   "cell_type": "code",
   "execution_count": 9,
   "metadata": {},
   "outputs": [
    {
     "name": "stdout",
     "output_type": "stream",
     "text": [
      "[[4. 3. 3. 3.]\n",
      " [3. 4. 3. 3.]\n",
      " [3. 3. 4. 3.]\n",
      " [3. 3. 3. 4.]]\n",
      "[[-2.  1.  5. 13.]\n",
      " [-1.  0.  5. 13.]\n",
      " [-1.  1.  4. 13.]\n",
      " [-1.  1.  5. 12.]]\n"
     ]
    }
   ],
   "source": [
    "second_array = second_array + 3\n",
    "print(second_array)\n",
    "print(my_array - second_array)"
   ]
  },
  {
   "cell_type": "code",
   "execution_count": 10,
   "metadata": {},
   "outputs": [
    {
     "name": "stdout",
     "output_type": "stream",
     "text": [
      "[3.  3.5 4.  4.5 5.  5.5 6.  6.5]\n"
     ]
    }
   ],
   "source": [
    "x = np.arange(3,7,0.5)\n",
    "print(x)"
   ]
  },
  {
   "cell_type": "code",
   "execution_count": 11,
   "metadata": {},
   "outputs": [
    {
     "name": "stdout",
     "output_type": "stream",
     "text": [
      "[3.  3.5 4.  4.5 5.  5.5 6.  6.5]\n"
     ]
    }
   ],
   "source": [
    "x = np.linspace(3,6.5, num=8)\n",
    "print(x)"
   ]
  },
  {
   "cell_type": "code",
   "execution_count": 12,
   "metadata": {},
   "outputs": [
    {
     "name": "stdout",
     "output_type": "stream",
     "text": [
      "[  1.   5.  25. 125. 625.]\n"
     ]
    }
   ],
   "source": [
    "x = np.geomspace(1,625, num=5)\n",
    "print(x)"
   ]
  },
  {
   "cell_type": "code",
   "execution_count": 13,
   "metadata": {},
   "outputs": [
    {
     "name": "stdout",
     "output_type": "stream",
     "text": [
      "[ 1000.          1778.27941004  3162.27766017  5623.4132519\n",
      " 10000.        ]\n"
     ]
    }
   ],
   "source": [
    "#start at 10^3 and end at 10^4\n",
    "x = np.logspace(3,4, num=5)\n",
    "print(x)"
   ]
  },
  {
   "cell_type": "code",
   "execution_count": 14,
   "metadata": {},
   "outputs": [
    {
     "name": "stdout",
     "output_type": "stream",
     "text": [
      "[3.         3.2237098  3.46410162 3.72241944 4.        ]\n"
     ]
    }
   ],
   "source": [
    "x = np.logspace(np.log10(3) , np.log10(4) , num=5)\n",
    "print(x)"
   ]
  },
  {
   "cell_type": "markdown",
   "metadata": {},
   "source": [
    "### Compare Arrays Elements"
   ]
  },
  {
   "cell_type": "code",
   "execution_count": 15,
   "metadata": {},
   "outputs": [
    {
     "name": "stdout",
     "output_type": "stream",
     "text": [
      "[ True False False  True]\n",
      "[False  True False False]\n"
     ]
    }
   ],
   "source": [
    "x = np.array([1,2,3,4])\n",
    "y = np.array([1,3,2,4])\n",
    "print(x==y)\n",
    "print(x<y)"
   ]
  },
  {
   "cell_type": "markdown",
   "metadata": {},
   "source": [
    "### Loical Array Comparision"
   ]
  },
  {
   "cell_type": "code",
   "execution_count": 16,
   "metadata": {},
   "outputs": [
    {
     "name": "stdout",
     "output_type": "stream",
     "text": [
      "[ True  True False  True]\n",
      "[False  True False False]\n"
     ]
    }
   ],
   "source": [
    "x = np.array([0, 1, 0, 0], dtype=bool)\n",
    "y = np.array([1, 1, 0, 1], dtype=bool)\n",
    "\n",
    "print(np.logical_or(x, y))\n",
    "print(np.logical_and(x, y))"
   ]
  },
  {
   "cell_type": "markdown",
   "metadata": {},
   "source": [
    "### Complex Comparision"
   ]
  },
  {
   "cell_type": "code",
   "execution_count": 17,
   "metadata": {},
   "outputs": [
    {
     "name": "stdout",
     "output_type": "stream",
     "text": [
      "[False False  True  True]\n"
     ]
    }
   ],
   "source": [
    "x = np.array([12,16,57,11])\n",
    "print(np.logical_or(x < 12, x>50))"
   ]
  },
  {
   "cell_type": "markdown",
   "metadata": {},
   "source": [
    "### Vectorized Math Functions"
   ]
  },
  {
   "cell_type": "code",
   "execution_count": 18,
   "metadata": {},
   "outputs": [
    {
     "name": "stdout",
     "output_type": "stream",
     "text": [
      "[ 2.71828183  7.3890561  20.08553692 54.59815003]\n",
      "[0.         0.69314718 1.09861229 1.38629436]\n",
      "[0.         0.30103    0.47712125 0.60205999]\n",
      "[ 0.84147098  0.90929743  0.14112001 -0.7568025 ]\n",
      "[ 0.54030231 -0.41614684 -0.9899925  -0.65364362]\n",
      "[ 1.55740772 -2.18503986 -0.14254654  1.15782128]\n"
     ]
    }
   ],
   "source": [
    "x = np.array([1, 2, 3,4 ])\n",
    "print(np.exp(x))\n",
    "print(np.log(x))\n",
    "print(np.log10(x))\n",
    "print(np.sin(x))\n",
    "print(np.cos(x))\n",
    "print(np.tan(x))"
   ]
  },
  {
   "cell_type": "markdown",
   "metadata": {},
   "source": [
    "# Reshaping Array"
   ]
  },
  {
   "cell_type": "code",
   "execution_count": 19,
   "metadata": {},
   "outputs": [
    {
     "name": "stdout",
     "output_type": "stream",
     "text": [
      "[0 1 2 3 4 5 6 7 8]\n"
     ]
    }
   ],
   "source": [
    "x = np.arange(9)\n",
    "print(x)"
   ]
  },
  {
   "cell_type": "code",
   "execution_count": 20,
   "metadata": {},
   "outputs": [
    {
     "name": "stdout",
     "output_type": "stream",
     "text": [
      "[[0 1 2]\n",
      " [3 4 5]\n",
      " [6 7 8]]\n"
     ]
    }
   ],
   "source": [
    "# Reshape 9 elements into 3 X 3 matrix\n",
    "# Parameter is a tuple of (row, column)\n",
    "x = x.reshape((3,3))\n",
    "print(x)"
   ]
  },
  {
   "cell_type": "code",
   "execution_count": 21,
   "metadata": {},
   "outputs": [
    {
     "name": "stdout",
     "output_type": "stream",
     "text": [
      "[[0 3 6]\n",
      " [1 4 7]\n",
      " [2 5 8]]\n",
      "[[0 1 2]\n",
      " [3 4 5]]\n",
      "[[0 3]\n",
      " [1 4]\n",
      " [2 5]]\n"
     ]
    }
   ],
   "source": [
    "# Transpose\n",
    "y = np.arange(6).reshape((2,3))\n",
    "print(x.T)\n",
    "print(y)\n",
    "print(y.T)"
   ]
  },
  {
   "cell_type": "markdown",
   "metadata": {},
   "source": [
    "# Summary Methods"
   ]
  },
  {
   "cell_type": "code",
   "execution_count": 22,
   "metadata": {},
   "outputs": [
    {
     "name": "stdout",
     "output_type": "stream",
     "text": [
      "Sum: 36\n",
      "Minimum: 0\n",
      "Maximum: 8\n",
      "80 percentile: 6.4\n"
     ]
    }
   ],
   "source": [
    "x = np.arange(9).reshape((3,3))\n",
    "# Summary across all axes\n",
    "print(\"Sum: {}\".format(np.sum(x)))\n",
    "print(\"Minimum: {}\".format(np.amin(x)))\n",
    "print(\"Maximum: {}\".format(np.amax(x)))\n",
    "print(\"80 percentile: {}\".format(np.percentile(x, 80)))"
   ]
  },
  {
   "cell_type": "code",
   "execution_count": 23,
   "metadata": {},
   "outputs": [
    {
     "name": "stdout",
     "output_type": "stream",
     "text": [
      "Sum: [ 9 12 15]\n",
      "Minimum: [0 1 2]\n",
      "Maximum: [6 7 8]\n",
      "80 percentile: [4.8 5.8 6.8]\n"
     ]
    }
   ],
   "source": [
    "# Summary by rows (axis = 0 )\n",
    "print(\"Sum: {}\".format(np.sum(x, axis = 0)))\n",
    "print(\"Minimum: {}\".format(np.amin(x, axis = 0)))\n",
    "print(\"Maximum: {}\".format(np.amax(x, axis = 0)))\n",
    "print(\"80 percentile: {}\".format(np.percentile(x, 80, axis = 0)))"
   ]
  },
  {
   "cell_type": "code",
   "execution_count": 24,
   "metadata": {},
   "outputs": [
    {
     "name": "stdout",
     "output_type": "stream",
     "text": [
      "Sum: [ 3 12 21]\n",
      "Minimum: [0 3 6]\n",
      "Maximum: [2 5 8]\n",
      "80 percentile: [1.6 4.6 7.6]\n"
     ]
    }
   ],
   "source": [
    "# Summary by columns (axis = 1 )\n",
    "print(\"Sum: {}\".format(np.sum(x, axis = 1)))\n",
    "print(\"Minimum: {}\".format(np.amin(x, axis = 1)))\n",
    "print(\"Maximum: {}\".format(np.amax(x, axis = 1)))\n",
    "print(\"80 percentile: {}\".format(np.percentile(x, 80, axis = 1)))"
   ]
  },
  {
   "cell_type": "markdown",
   "metadata": {},
   "source": [
    "If values contain NaN then to ignore them and clculate aggregate values use folliwing:\n",
    "* np.amin -> np.nanmin\n",
    "* np.amax -> np.nanmax\n",
    "* np.percentile -> np.nanpercentile"
   ]
  },
  {
   "cell_type": "code",
   "execution_count": 25,
   "metadata": {},
   "outputs": [
    {
     "name": "stdout",
     "output_type": "stream",
     "text": [
      "2\n",
      "1\n"
     ]
    }
   ],
   "source": [
    "# Find index of min and max values\n",
    "x = np.array([1,-21,3,-3])\n",
    "print(np.argmax(x))\n",
    "print(np.argmin(x))"
   ]
  },
  {
   "cell_type": "markdown",
   "metadata": {},
   "source": [
    "### Statistical Functions"
   ]
  },
  {
   "cell_type": "code",
   "execution_count": 26,
   "metadata": {},
   "outputs": [
    {
     "name": "stdout",
     "output_type": "stream",
     "text": [
      "Mean: 7.666666666666667\n",
      "Median: 4.5\n",
      "Std. Dev.: 6.394442031083626\n"
     ]
    }
   ],
   "source": [
    "x = np.array([[2, 3, 5], [20, 12, 4]])\n",
    "# Stats across all axes\n",
    "print(\"Mean: {}\".format(np.mean(x)))\n",
    "print(\"Median: {}\".format(np.median(x)))\n",
    "print(\"Std. Dev.: {}\".format(np.std(x)))"
   ]
  },
  {
   "cell_type": "code",
   "execution_count": 27,
   "metadata": {},
   "outputs": [
    {
     "name": "stdout",
     "output_type": "stream",
     "text": [
      "Mean: [11.   7.5  4.5]\n",
      "Median: [11.   7.5  4.5]\n",
      "Std. Dev.: [9.  4.5 0.5]\n"
     ]
    }
   ],
   "source": [
    "# Stats by rows (axis = 0 )\n",
    "print(\"Mean: {}\".format(np.mean(x, axis = 0)))\n",
    "print(\"Median: {}\".format(np.median(x, axis = 0)))\n",
    "print(\"Std. Dev.: {}\".format(np.std(x, axis = 0)))"
   ]
  },
  {
   "cell_type": "code",
   "execution_count": 28,
   "metadata": {},
   "outputs": [
    {
     "name": "stdout",
     "output_type": "stream",
     "text": [
      "Mean: [ 3.33333333 12.        ]\n",
      "Median: [ 3. 12.]\n",
      "Std. Dev.: [1.24721913 6.53197265]\n"
     ]
    }
   ],
   "source": [
    "# Stats by columns (axis = 1 )\n",
    "print(\"Mean: {}\".format(np.mean(x, axis = 1)))\n",
    "print(\"Median: {}\".format(np.median(x, axis = 1)))\n",
    "print(\"Std. Dev.: {}\".format(np.std(x, axis = 1)))"
   ]
  },
  {
   "cell_type": "markdown",
   "metadata": {},
   "source": [
    "If values contain NaN then to ignore them and clculate aggregate values use folliwing:\n",
    "* np.mean -> np.nanmean\n",
    "* np.median -> np.nanmedian\n",
    "* np.std -> np.nanstd"
   ]
  },
  {
   "cell_type": "code",
   "execution_count": null,
   "metadata": {},
   "outputs": [],
   "source": []
  }
 ],
 "metadata": {
  "kernelspec": {
   "display_name": "Python 3",
   "language": "python",
   "name": "python3"
  },
  "language_info": {
   "codemirror_mode": {
    "name": "ipython",
    "version": 3
   },
   "file_extension": ".py",
   "mimetype": "text/x-python",
   "name": "python",
   "nbconvert_exporter": "python",
   "pygments_lexer": "ipython3",
   "version": "3.7.6"
  }
 },
 "nbformat": 4,
 "nbformat_minor": 2
}
